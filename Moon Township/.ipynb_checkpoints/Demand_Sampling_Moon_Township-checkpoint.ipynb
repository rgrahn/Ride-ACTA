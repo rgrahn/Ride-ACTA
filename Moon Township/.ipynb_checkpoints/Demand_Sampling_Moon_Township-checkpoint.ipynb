{
 "cells": [
  {
   "cell_type": "code",
   "execution_count": 1,
   "metadata": {},
   "outputs": [
    {
     "name": "stdout",
     "output_type": "stream",
     "text": [
      "Once deleted, variables cannot be recovered. Proceed (y/[n])? y\n"
     ]
    }
   ],
   "source": [
    "%reset\n",
    "import pandas as pd\n",
    "import math\n",
    "import numpy as np\n",
    "import matplotlib.pyplot as plt\n",
    "from scipy.stats import norm, beta\n",
    "import seaborn as sns\n",
    "import os\n",
    "import datetime as dt\n",
    "import time\n",
    "import networkx as nx\n",
    "import osmnx as ox\n",
    "import random as rand\n",
    "os.chdir(\"C:/Users/Rick/Desktop/Research/RideACTA_RAMP/Data/RideACTA/\")"
   ]
  },
  {
   "cell_type": "code",
   "execution_count": 2,
   "metadata": {},
   "outputs": [
    {
     "name": "stdout",
     "output_type": "stream",
     "text": [
      "Wall time: 822 ms\n"
     ]
    }
   ],
   "source": [
    "%%time\n",
    "# ---------------------------- Load Data ----------------------------------------------\n",
    "\n",
    "#    Load in all ridership data for May 1, 2019 - Aug 1, 2019\n",
    "\n",
    "# -------------------------------------------------------------------------------------\n",
    "riderFile = '2f_finalRidershipHighwayFilter.csv'\n",
    "\n",
    "def loadRiderData(riderFile):\n",
    "    riderData = pd.read_csv(riderFile)\n",
    "    riderData = riderData.drop('Unnamed: 0', axis = 1)\n",
    "    riderData = riderData[riderData['month'].isin([5, 6, 7])]\n",
    "    riderData['destination_poi'] = riderData['destination_poi'].astype(int)\n",
    "    riderData['origin_timestamp'] = pd.to_datetime(riderData['origin_timestamp'])\n",
    "    riderData['hour'] = riderData['origin_timestamp'].dt.hour\n",
    "    riderData['pending_time'] = pd.to_datetime(riderData['pending_time'])\n",
    "    riderData['pending_sec'] = riderData['pending_time'].apply(lambda row: row.hour*3600 + row.minute*60 + row.second)\n",
    "    riderData['destination_poi'] = riderData['destination_poi'].astype(int)\n",
    "    riderData['od_pair'] = riderData['origin_poi'].astype(str) + ', ' + riderData['destination_poi'].astype(str)\n",
    "    riderData['vehicle'] = riderData['vehicle'].astype(int)\n",
    "    riderData.loc[:,'ones'] = 1\n",
    "    deltaTime2 = 15\n",
    "    riderData['timePeriod1'] = riderData['origin_timestamp'].apply(lambda row: dt.datetime(row.year, row.month, row.day, row.hour, \\\n",
    "                                                             deltaTime2*(row.minute // deltaTime2))).dt.strftime('%H:%M:%S')\n",
    "    return riderData\n",
    "\n",
    "\n",
    "riderData = loadRiderData(riderFile)\n",
    "moon = pd.read_csv('All_Moon_Businesses_REVISED.csv')"
   ]
  },
  {
   "cell_type": "code",
   "execution_count": 3,
   "metadata": {},
   "outputs": [],
   "source": [
    "# Function to plot the hourly distributions obtained from Robinson and to scale the sampling to represent Moon (mean=targetMean)\n",
    "def plotHourlyDemandDistributions(data, hour, hoursConsidered, numOfSamples, targetMean, showPlot = True):\n",
    "    filtData = data[data['hour'].isin(hoursConsidered)]\n",
    "    # Filter dataframe\n",
    "    df = data[data['hour'] == hour].copy()\n",
    "    tripProp = len(df) / len(filtData)\n",
    "    group = df.groupby('date')['ones'].sum()\n",
    "    group = group.reset_index()\n",
    "    # Fit data to normal distribution\n",
    "    mean, std = norm.fit(group['ones'])\n",
    "    # Scale the data to represent Moon demand based on lower demand numbers\n",
    "    scalingFactor = targetMean / (mean / tripProp)\n",
    "    sampledDemand = np.random.normal(mean*scalingFactor, std*scalingFactor, numOfSamples)\n",
    "    if (showPlot == True):\n",
    "        plt.hist(group['ones'], bins=8, density=True)\n",
    "        xmin, xmax = plt.xlim()\n",
    "        x = np.linspace(xmin, xmax, 100)\n",
    "        y = norm.pdf(x, mean, std)\n",
    "        plt.plot(x,y, color='red')\n",
    "        plt.title(f'Distribution for hour {hour}')\n",
    "        plt.show()\n",
    "    return list(sampledDemand)\n",
    "\n",
    "# Create a dataframe for all the sampled demand\n",
    "def formatSampledDemand(data, hourList, sampleCount, targetMean, showPlot = True):\n",
    "    sampleDf = pd.DataFrame()\n",
    "    for hour in hourList:\n",
    "        samples = plotHourlyDemandDistributions(riderData, hour, hourList, numberOfSamples, targetMean, False)\n",
    "        sampleDf[f'{hour}'] = [int(i) for i in samples]\n",
    "    if (showPlot == True):\n",
    "        plt.hist(sampleDf.sum(axis=1))\n",
    "    return sampleDf\n",
    "\n",
    "# Create a list of times to sample to determine demand departure times\n",
    "def timeList(hour):\n",
    "    timeList = []\n",
    "    startMinute = -1\n",
    "    counter = 0\n",
    "    start = str(hour) + ':00:00'\n",
    "    while (startMinute < 59):\n",
    "        startMinute += 1\n",
    "        a = int(start.split(':')[1])\n",
    "        newTime = a + startMinute\n",
    "        if (newTime < 10):\n",
    "            newTimeStr = '0' + str(newTime)\n",
    "        else:\n",
    "            newTimeStr = str(newTime)\n",
    "        timeStamp = start.split(':')[0] + ':' + newTimeStr + ':' + '00'\n",
    "        timeList.append(timeStamp)\n",
    "    return timeList\n",
    "\n",
    "\n",
    "def timeListFixed(hour, orig):\n",
    "    assignedStops = dict([(18,':09:00'), (22,':16:00'),(26,':16:00'),(16,':22:00'),(17,':22:00'),(23,':22:00'),(24,':22:00'),\\\n",
    "                          (21,':30:00'),(25,':35:00'),(19, ':40:00'),(20, ':40:00')])\n",
    "    return str(hour) + assignedStops[orig]\n",
    "    "
   ]
  },
  {
   "cell_type": "code",
   "execution_count": 5,
   "metadata": {},
   "outputs": [
    {
     "name": "stdout",
     "output_type": "stream",
     "text": [
      "Mean:  30.266666666666666\n"
     ]
    },
    {
     "data": {
      "image/png": "[encoded data removed]",
      "text/plain": [
       "<Figure size 432x288 with 1 Axes>"
      ]
     },
     "metadata": {
      "needs_background": "light"
     },
     "output_type": "display_data"
    }
   ],
   "source": [
    "# Return time dependent sampled demand\n",
    "numberOfSamples = 60\n",
    "targetMean = 32\n",
    "hourList = [6,7,8]\n",
    "sampleDf = formatSampledDemand(riderData, hourList, numberOfSamples, targetMean, True)\n",
    "print('Mean: ', sampleDf.sum(axis=1).mean())"
   ]
  },
  {
   "cell_type": "code",
   "execution_count": 35,
   "metadata": {},
   "outputs": [],
   "source": [
    "# =============== Sampling Demand in Moon Township ==================\n",
    "# Assume:\n",
    "#       1) all morning trips originate at Park-and-Ride\n",
    "#       2) all evening trips conclude at Park-and-Ride\n",
    "#       3) 90% of trips served by 'Large' businesses\n",
    "#       4) 10% of trips served by 'Small' businesses\n",
    "\n",
    "# smallBusinesses = list(range(16))\n",
    "# largeBusinesses = list(range(16, 27)) # Dont include park-and-ride (27)\n",
    "\n",
    "# G3_morning_arrivals = ['06:14:00','06:34:00','06:54:00','07:09:00','07:33:00','07:45:00','07:57:00']\n",
    "# G3_evening_departures = ['16:11:00','16:31:00','16:53:00','17:28:00','17:58:00']\n"
   ]
  },
  {
   "cell_type": "code",
   "execution_count": 6,
   "metadata": {},
   "outputs": [],
   "source": [
    "smallBusinesses = list(range(16))\n",
    "largeBusinesses = list(range(16, 27)) # Dont include park-and-ride (27)\n",
    "\n",
    "G3_morning_arrivals = ['06:14:00','06:34:00','06:54:00','07:09:00','07:33:00','07:45:00','07:57:00']\n",
    "G3_evening_departures = ['16:11:00','16:31:00','16:53:00','17:28:00','17:58:00']\n",
    "\n",
    "def sampleDemand(sampleDf, largeBusinesses, smallBusinesses, G3_morning_arrivals):    \n",
    "    riders = pd.DataFrame(columns=['deptTime', 'orig','dest', 'sample', 'ride_id'])\n",
    "    mornHours = [6, 7, 8]\n",
    "    evenHours = [16, 17]\n",
    "    park_and_ride = 27\n",
    "    ride_id = 0\n",
    "    for i in range(len(sampleDf)):        # <-- iterate through each sample day\n",
    "        demand = list(sampleDf.loc[i])\n",
    "        for j in range(len(demand)):      # <-- iterate through each hour in sample day\n",
    "            for k in range(demand[j]):    # <-- iterate through samples in each hour\n",
    "                probOfSuccess = 0.9       \n",
    "                s = np.random.binomial(1, probOfSuccess, 1)\n",
    "                if (s == 1):                                    # <-- Large Business Assignment\n",
    "                    orig1 = park_and_ride\n",
    "                    dest1 = rand.choice(largeBusinesses)\n",
    "                    deptTime1 = rand.choice(G3_morning_arrivals)\n",
    "                else:                                           # <-- Small Business Assignment\n",
    "                    orig1 = park_and_ride\n",
    "                    dest1 = rand.choice(smallBusinesses)\n",
    "                    deptTime1 = rand.choice(G3_morning_arrivals)\n",
    "                # Assign return trip\n",
    "                orig2 = dest1\n",
    "                dest2 = park_and_ride\n",
    "                probOfSuccess1 = 0.6\n",
    "                s1 = np.random.binomial(1, probOfSuccess1, 1)\n",
    "                \n",
    "                # ------- Use for on-demand services --------\n",
    "                #if (s1 == 1):\n",
    "                #    deptTime2 = rand.choice(timeList(16))\n",
    "                #else:\n",
    "                #    deptTime2 = rand.choice(timeList(17))\n",
    "                # -------------------------------------------\n",
    "                \n",
    "                # -------- Use for fixed-route analysis -----\n",
    "                if (orig2 in list(range(16,27))):\n",
    "                    deptTime2 = timeListFixed(rand.choice(evenHours), orig2)\n",
    "                else:\n",
    "                    deptTime2 = rand.choice(timeList(rand.choice(evenHours)))\n",
    "                # ---------------------------------------------\n",
    "                toAppend1 = [deptTime1, orig1, dest1, i, ride_id]\n",
    "                appendSeries1 = pd.Series(toAppend1, riders.columns)\n",
    "                riders = riders.append(appendSeries1, ignore_index=True)\n",
    "                ride_id += 1\n",
    "                toAppend2 = [deptTime2, orig2, dest2, i, ride_id]\n",
    "                appendSeries2 = pd.Series(toAppend2, riders.columns)\n",
    "                riders = riders.append(appendSeries2, ignore_index=True)\n",
    "                ride_id += 1\n",
    "    return riders\n",
    "\n",
    "df = sampleDemand(sampleDf, largeBusinesses, smallBusinesses, G3_morning_arrivals)\n",
    "\n",
    "sortedDf = df.sort_values(['sample', 'deptTime']).groupby('sample').head(len(df))\n",
    "sortedDf = sortedDf.reset_index(drop = True)\n",
    "sortedDf.to_csv('USE_Moon_Sampled_Demand_Fixed_30.csv', index=False)"
   ]
  }
 ],
 "metadata": {
  "kernelspec": {
   "display_name": "Python 3",
   "language": "python",
   "name": "python3"
  },
  "language_info": {
   "codemirror_mode": {
    "name": "ipython",
    "version": 3
   },
   "file_extension": ".py",
   "mimetype": "text/x-python",
   "name": "python",
   "nbconvert_exporter": "python",
   "pygments_lexer": "ipython3",
   "version": "3.7.4"
  }
 },
 "nbformat": 4,
 "nbformat_minor": 2
}
